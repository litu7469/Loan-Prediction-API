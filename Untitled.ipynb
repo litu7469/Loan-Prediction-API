{
 "cells": [
  {
   "cell_type": "code",
   "execution_count": 5,
   "id": "81a8188f-1bc1-421c-8114-729a36e717ee",
   "metadata": {},
   "outputs": [
    {
     "name": "stdout",
     "output_type": "stream",
     "text": [
      "Status Code: 500\n",
      "Response: {\"error\":\"X has 4 features, but LogisticRegression is expecting 24 features as input.\"}\n",
      "\n"
     ]
    }
   ],
   "source": [
    "import requests\n",
    "\n",
    "url = \"https://loan-prediction-api-3f1u.onrender.com/predict\"\n",
    "data = {\"features\": [1, 0, 5000, 2]}  # Replace with actual input format\n",
    "\n",
    "try:\n",
    "    response = requests.post(url, json=data, timeout=10)\n",
    "    print(\"Status Code:\", response.status_code)\n",
    "    print(\"Response:\", response.text)\n",
    "except requests.exceptions.RequestException as e:\n",
    "    print(\"Error:\", e)\n"
   ]
  },
  {
   "cell_type": "code",
   "execution_count": 6,
   "id": "bea4f147-be3d-431e-a3c2-b318861b7d15",
   "metadata": {},
   "outputs": [
    {
     "name": "stdout",
     "output_type": "stream",
     "text": [
      "Status Code: 500\n",
      "Response: {\"error\":\"X has 4 features, but LogisticRegression is expecting 24 features as input.\"}\n",
      "\n"
     ]
    }
   ],
   "source": [
    "import requests\n",
    "\n",
    "url = \"https://loan-prediction-api-3f1u.onrender.com/predict\"\n",
    "data = {\"features\": [1, 0, 5000, 2]}  # Replace with actual input format\n",
    "\n",
    "try:\n",
    "    response = requests.post(url, json=data, timeout=10)\n",
    "    print(\"Status Code:\", response.status_code)\n",
    "    print(\"Response:\", response.text)\n",
    "except requests.exceptions.RequestException as e:\n",
    "    print(\"Error:\", e)\n"
   ]
  },
  {
   "cell_type": "code",
   "execution_count": null,
   "id": "9b5d22f9-a084-44ac-b98b-c7b5cb8a8df6",
   "metadata": {},
   "outputs": [],
   "source": []
  }
 ],
 "metadata": {
  "kernelspec": {
   "display_name": "Python 3 (ipykernel)",
   "language": "python",
   "name": "python3"
  },
  "language_info": {
   "codemirror_mode": {
    "name": "ipython",
    "version": 3
   },
   "file_extension": ".py",
   "mimetype": "text/x-python",
   "name": "python",
   "nbconvert_exporter": "python",
   "pygments_lexer": "ipython3",
   "version": "3.13.5"
  }
 },
 "nbformat": 4,
 "nbformat_minor": 5
}
